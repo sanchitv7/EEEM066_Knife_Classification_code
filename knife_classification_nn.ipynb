{
  "cells": [
    {
      "cell_type": "code",
      "source": [
        "'''Mount Drive'''\n",
        "from google.colab import drive\n",
        "drive.mount('/content/drive')\n",
        "\n",
        "'''Set working directory'''\n",
        "%cd '/content/drive/MyDrive/GitHub Repos/EEEM066_Knife_Classification_code'\n",
        "\n",
        "\n",
        "'''git setup'''\n",
        "!git config --global user.email \"23355869+sanchitv7@users.noreply.github.com\"\n",
        "!git config --global user.name \"Sanchit Verma\"\n",
        "# !git remote set-url origin \"https://sanchitv7:<ADD TOKEN HERE>@github.com/sanchitv7/EEEM066_Knife_Classification_code.git\""
      ],
      "metadata": {
        "colab": {
          "base_uri": "https://localhost:8080/"
        },
        "id": "XIRObMrFv3yD",
        "outputId": "fa621fd4-8c32-47b3-8da2-f9cc124a63b3"
      },
      "id": "XIRObMrFv3yD",
      "execution_count": 2,
      "outputs": [
        {
          "output_type": "stream",
          "name": "stdout",
          "text": [
            "Drive already mounted at /content/drive; to attempt to forcibly remount, call drive.mount(\"/content/drive\", force_remount=True).\n",
            "/content/drive/MyDrive/GitHub Repos/EEEM066_Knife_Classification_code\n"
          ]
        }
      ]
    },
    {
      "cell_type": "code",
      "source": [
        "!pip install -r requirements.txt"
      ],
      "metadata": {
        "id": "_kqsI_wVwNiQ"
      },
      "id": "_kqsI_wVwNiQ",
      "execution_count": null,
      "outputs": []
    },
    {
      "cell_type": "code",
      "source": [
        "!python train.py"
      ],
      "metadata": {
        "colab": {
          "base_uri": "https://localhost:8080/"
        },
        "id": "JADCvKVlwVn9",
        "outputId": "9bf54bd2-44db-4e5b-a965-3551533423f0"
      },
      "id": "JADCvKVlwVn9",
      "execution_count": 6,
      "outputs": [
        {
          "output_type": "stream",
          "name": "stdout",
          "text": [
            "Using backend: cuda:0\n",
            "\n",
            "----------------------------------------------- [START 2023-11-24 03:06:05] ---------------------------------------------------\n",
            "\n",
            "                           |----- Train -----|----- Valid----|---------|\n",
            "mode     iter     epoch    |       loss      |        mAP    | time    |\n",
            "-------------------------------------------------------------------------------------------\n",
            "train 300.0    0.0        |      2.027     |      0.000     |  0 hr 02 min\n",
            "val    12.0    0.0       |      2.027     |      0.679    |  0 hr 03 min\n",
            "train 300.0    1.0        |      0.375     |      0.679     |  0 hr 05 min\n",
            "val    12.0    1.0       |      0.375     |      0.815    |  0 hr 06 min\n",
            "train 300.0    2.0        |      0.183     |      0.815     |  0 hr 08 min\n",
            "val    12.0    2.0       |      0.183     |      0.822    |  0 hr 09 min\n",
            "train 300.0    3.0        |      0.067     |      0.822     |  0 hr 12 min\n",
            "val    12.0    3.0       |      0.067     |      0.857    |  0 hr 12 min\n",
            "train 300.0    4.0        |      0.019     |      0.857     |  0 hr 15 min\n",
            "val    12.0    4.0       |      0.019     |      0.861    |  0 hr 15 min\n",
            "train 300.0    5.0        |      0.010     |      0.861     |  0 hr 18 min\n",
            "val    12.0    5.0       |      0.010     |      0.865    |  0 hr 18 min\n",
            "train 300.0    6.0        |      0.004     |      0.865     |  0 hr 21 min\n",
            "val    12.0    6.0       |      0.004     |      0.864    |  0 hr 22 min\n",
            "train 300.0    7.0        |      0.002     |      0.864     |  0 hr 24 min\n",
            "val    12.0    7.0       |      0.002     |      0.864    |  0 hr 25 min\n",
            "train 300.0    8.0        |      0.001     |      0.864     |  0 hr 27 min\n",
            "val    12.0    8.0       |      0.001     |      0.866    |  0 hr 28 min\n",
            "train 300.0    9.0        |      0.002     |      0.866     |  0 hr 31 min\n",
            "val    12.0    9.0       |      0.002     |      0.862    |  0 hr 31 min\n",
            "val    12.0    9.0       |      0.002     |      0.862    |  0 hr 31 min"
          ]
        }
      ]
    },
    {
      "cell_type": "code",
      "source": [],
      "metadata": {
        "id": "Oi4ToNIokyZL"
      },
      "id": "Oi4ToNIokyZL",
      "execution_count": null,
      "outputs": []
    }
  ],
  "metadata": {
    "kernelspec": {
      "display_name": "Python 3",
      "name": "python3"
    },
    "language_info": {
      "codemirror_mode": {
        "name": "ipython",
        "version": 2
      },
      "file_extension": ".py",
      "mimetype": "text/x-python",
      "name": "python",
      "nbconvert_exporter": "python",
      "pygments_lexer": "ipython2",
      "version": "2.7.6"
    },
    "colab": {
      "provenance": [],
      "gpuType": "T4"
    },
    "accelerator": "GPU"
  },
  "nbformat": 4,
  "nbformat_minor": 5
}