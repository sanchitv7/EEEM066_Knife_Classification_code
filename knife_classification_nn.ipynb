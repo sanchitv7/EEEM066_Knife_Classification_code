{
  "cells": [
    {
      "cell_type": "code",
      "source": [
        "'''Mount Drive'''\n",
        "from google.colab import drive\n",
        "drive.mount('/content/drive')\n",
        "\n",
        "'''Set working directory'''\n",
        "%cd '/content/drive/MyDrive/GitHub Repos/EEEM066_Knife_Classification_code'\n",
        "\n",
        "\n",
        "'''git setup'''\n",
        "!git config --global user.email \"23355869+sanchitv7@users.noreply.github.com\"\n",
        "!git config --global user.name \"Sanchit Verma\"\n",
        "!git remote set-url origin \"https://sanchitv7:<ADD TOKEN HERE>@github.com/sanchitv7/EEEM066_Knife_Classification_code.git\""
      ],
      "metadata": {
        "colab": {
          "base_uri": "https://localhost:8080/"
        },
        "id": "XIRObMrFv3yD",
        "outputId": "eab985ec-0d17-413f-fd6d-625915fa563e"
      },
      "id": "XIRObMrFv3yD",
      "execution_count": 2,
      "outputs": [
        {
          "output_type": "stream",
          "name": "stdout",
          "text": [
            "Mounted at /content/drive\n",
            "/content/drive/MyDrive/GitHub Repos/EEEM066_Knife_Classification_code\n"
          ]
        }
      ]
    },
    {
      "cell_type": "code",
      "source": [
        "!pip install -r requirements.txt"
      ],
      "metadata": {
        "id": "_kqsI_wVwNiQ"
      },
      "id": "_kqsI_wVwNiQ",
      "execution_count": null,
      "outputs": []
    },
    {
      "cell_type": "code",
      "source": [
        "!python train.py"
      ],
      "metadata": {
        "colab": {
          "base_uri": "https://localhost:8080/"
        },
        "id": "JADCvKVlwVn9",
        "outputId": "392f44d1-ce97-4684-b16e-8f1f5cf5a43a"
      },
      "id": "JADCvKVlwVn9",
      "execution_count": null,
      "outputs": [
        {
          "output_type": "stream",
          "name": "stdout",
          "text": [
            "<config.DefaultConfigs object at 0x7e7304c2a200>\n",
            "----------------------------------------------- [START 2023-11-23 04:11:02] ---------------------------------------------------\n",
            "\n",
            "                           |----- Train -----|----- Valid----|---------|\n",
            "mode     iter     epoch    |       loss      |        mAP    | time    |\n",
            "-------------------------------------------------------------------------------------------\n",
            "train 300.0    0.0        |      2.005     |      0.000     |  0 hr 02 min\n",
            "val    10.0    0.0       |      2.005     |      0.307    |  0 hr 04 min\n",
            "train 300.0    1.0        |      0.365     |      0.307     |  0 hr 06 min\n",
            "val    10.0    1.0       |      0.365     |      0.374    |  0 hr 08 min\n",
            "train 300.0    2.0        |      0.193     |      0.374     |  0 hr 10 min\n",
            "val    10.0    2.0       |      0.193     |      0.356    |  0 hr 12 min\n",
            "train 300.0    3.0        |      0.186     |      0.356     |  0 hr 15 min\n",
            "val    10.0    3.0       |      0.186     |      0.354    |  0 hr 16 min\n",
            "train 300.0    4.0        |      0.109     |      0.354     |  0 hr 19 min\n",
            "val    10.0    4.0       |      0.109     |      0.416    |  0 hr 20 min\n",
            "train 300.0    5.0        |      0.045     |      0.416     |  0 hr 23 min\n",
            "val    10.0    5.0       |      0.045     |      0.376    |  0 hr 24 min\n",
            "train 300.0    6.0        |      0.062     |      0.376     |  0 hr 27 min\n",
            "val    10.0    6.0       |      0.062     |      0.405    |  0 hr 28 min\n",
            "train 300.0    7.0        |      0.039     |      0.405     |  0 hr 31 min\n",
            "val    10.0    7.0       |      0.039     |      0.416    |  0 hr 33 min\n",
            "train 300.0    8.0        |      0.018     |      0.416     |  0 hr 35 min\n",
            "val    10.0    8.0       |      0.018     |      0.399    |  0 hr 37 min\n",
            "train 300.0    9.0        |      0.002     |      0.399     |  0 hr 39 min\n",
            "val    10.0    9.0       |      0.002     |      0.419    |  0 hr 41 min\n",
            "train 300.0   10.0        |      0.005     |      0.419     |  0 hr 43 min\n",
            "val    10.0   10.0       |      0.005     |      0.423    |  0 hr 45 min\n",
            "train 300.0   11.0        |      0.004     |      0.423     |  0 hr 47 min\n",
            "val    10.0   11.0       |      0.004     |      0.413    |  0 hr 49 min\n",
            "train 300.0   12.0        |      0.004     |      0.413     |  0 hr 51 min\n",
            "val    10.0   12.0       |      0.004     |      0.420    |  0 hr 53 min\n",
            "train 300.0   13.0        |      0.004     |      0.420     |  0 hr 56 min\n",
            "val    10.0   13.0       |      0.004     |      0.403    |  0 hr 57 min\n",
            "train   4.0   14.0        |      0.001     |      0.403     |  0 hr 57 min"
          ]
        }
      ]
    },
    {
      "cell_type": "code",
      "source": [
        "!git pull"
      ],
      "metadata": {
        "id": "qPo7Te35XaKT",
        "outputId": "336f00b3-accf-4670-84c6-93d12aaf58d5",
        "colab": {
          "base_uri": "https://localhost:8080/"
        }
      },
      "id": "qPo7Te35XaKT",
      "execution_count": 52,
      "outputs": [
        {
          "output_type": "stream",
          "name": "stdout",
          "text": [
            "remote: Enumerating objects: 5, done.\u001b[K\n",
            "remote: Counting objects:  20% (1/5)\u001b[K\rremote: Counting objects:  40% (2/5)\u001b[K\rremote: Counting objects:  60% (3/5)\u001b[K\rremote: Counting objects:  80% (4/5)\u001b[K\rremote: Counting objects: 100% (5/5)\u001b[K\rremote: Counting objects: 100% (5/5), done.\u001b[K\n",
            "remote: Compressing objects: 100% (1/1)\u001b[K\rremote: Compressing objects: 100% (1/1), done.\u001b[K\n",
            "remote: Total 3 (delta 2), reused 3 (delta 2), pack-reused 0\u001b[K\n",
            "Unpacking objects:  33% (1/3)\rUnpacking objects:  66% (2/3)\rUnpacking objects: 100% (3/3)\rUnpacking objects: 100% (3/3), 293 bytes | 10.00 KiB/s, done.\n",
            "From https://github.com/sanchitv7/EEEM066_Knife_Classification_code\n",
            "   b6d4e45..db716de  main       -> origin/main\n",
            "Updating b6d4e45..db716de\n",
            "Fast-forward\n",
            " train.py | 3 \u001b[32m++\u001b[m\u001b[31m-\u001b[m\n",
            " 1 file changed, 2 insertions(+), 1 deletion(-)\n"
          ]
        }
      ]
    },
    {
      "cell_type": "code",
      "source": [
        "!git status"
      ],
      "metadata": {
        "id": "7OOI6oPuTp2N",
        "outputId": "dee93bd4-fb14-4348-97ef-2cd13474f0d7",
        "colab": {
          "base_uri": "https://localhost:8080/"
        }
      },
      "id": "7OOI6oPuTp2N",
      "execution_count": 7,
      "outputs": [
        {
          "output_type": "stream",
          "name": "stdout",
          "text": [
            "On branch main\n",
            "Your branch is up to date with 'origin/main'.\n",
            "\n",
            "Changes not staged for commit:\n",
            "  (use \"git add <file>...\" to update what will be committed)\n",
            "  (use \"git restore <file>...\" to discard changes in working directory)\n",
            "\t\u001b[31mmodified:   Knife-Effb0-E1.pt\u001b[m\n",
            "\t\u001b[31mmodified:   Knife-Effb0-E10.pt\u001b[m\n",
            "\t\u001b[31mmodified:   Knife-Effb0-E2.pt\u001b[m\n",
            "\t\u001b[31mmodified:   Knife-Effb0-E3.pt\u001b[m\n",
            "\t\u001b[31mmodified:   Knife-Effb0-E4.pt\u001b[m\n",
            "\t\u001b[31mmodified:   Knife-Effb0-E5.pt\u001b[m\n",
            "\t\u001b[31mmodified:   Knife-Effb0-E6.pt\u001b[m\n",
            "\t\u001b[31mmodified:   Knife-Effb0-E7.pt\u001b[m\n",
            "\t\u001b[31mmodified:   Knife-Effb0-E8.pt\u001b[m\n",
            "\t\u001b[31mmodified:   Knife-Effb0-E9.pt\u001b[m\n",
            "\t\u001b[31mmodified:   __pycache__/config.cpython-310.pyc\u001b[m\n",
            "\n",
            "Untracked files:\n",
            "  (use \"git add <file>...\" to include in what will be committed)\n",
            "\t\u001b[31mKnife-Effb0-E11.pt\u001b[m\n",
            "\t\u001b[31mKnife-Effb0-E12.pt\u001b[m\n",
            "\t\u001b[31mKnife-Effb0-E13.pt\u001b[m\n",
            "\t\u001b[31mKnife-Effb0-E14.pt\u001b[m\n",
            "\n",
            "no changes added to commit (use \"git add\" and/or \"git commit -a\")\n"
          ]
        }
      ]
    },
    {
      "cell_type": "code",
      "source": [
        "!git add logs/\n",
        "!git commit -m 'Added logs from the run'"
      ],
      "metadata": {
        "colab": {
          "base_uri": "https://localhost:8080/"
        },
        "id": "QRqgizN3BKvg",
        "outputId": "148e4013-a2ed-4d4f-d711-1af58ff2b117"
      },
      "id": "QRqgizN3BKvg",
      "execution_count": 5,
      "outputs": [
        {
          "output_type": "stream",
          "name": "stdout",
          "text": [
            "Everything up-to-date\n",
            "[main 221d118] Added logs from the run\n",
            " 1 file changed, 32 insertions(+), 2 deletions(-)\n"
          ]
        }
      ]
    },
    {
      "cell_type": "code",
      "source": [
        "!git push"
      ],
      "metadata": {
        "id": "PM0TB0ajjYU8",
        "outputId": "56705aab-7649-4620-e194-0b17420b1454",
        "colab": {
          "base_uri": "https://localhost:8080/"
        }
      },
      "id": "PM0TB0ajjYU8",
      "execution_count": 6,
      "outputs": [
        {
          "output_type": "stream",
          "name": "stdout",
          "text": [
            "Enumerating objects: 1\rEnumerating objects: 7, done.\n",
            "Counting objects:  14% (1/7)\rCounting objects:  28% (2/7)\rCounting objects:  42% (3/7)\rCounting objects:  57% (4/7)\rCounting objects:  71% (5/7)\rCounting objects:  85% (6/7)\rCounting objects: 100% (7/7)\rCounting objects: 100% (7/7), done.\n",
            "Delta compression using up to 2 threads\n",
            "Compressing objects:  25% (1/4)\rCompressing objects:  50% (2/4)\rCompressing objects:  75% (3/4)\rCompressing objects: 100% (4/4)\rCompressing objects: 100% (4/4), done.\n",
            "Writing objects:  25% (1/4)\rWriting objects:  50% (2/4)\rWriting objects:  75% (3/4)\rWriting objects: 100% (4/4)\rWriting objects: 100% (4/4), 829 bytes | 138.00 KiB/s, done.\n",
            "Total 4 (delta 2), reused 0 (delta 0), pack-reused 0\n",
            "remote: Resolving deltas:   0% (0/2)\u001b[K\rremote: Resolving deltas:  50% (1/2)\u001b[K\rremote: Resolving deltas: 100% (2/2)\u001b[K\rremote: Resolving deltas: 100% (2/2), completed with 2 local objects.\u001b[K\n",
            "To https://github.com/sanchitv7/EEEM066_Knife_Classification_code.git\n",
            "   db716de..221d118  main -> main\n"
          ]
        }
      ]
    },
    {
      "cell_type": "code",
      "source": [],
      "metadata": {
        "id": "Oi4ToNIokyZL"
      },
      "id": "Oi4ToNIokyZL",
      "execution_count": null,
      "outputs": []
    }
  ],
  "metadata": {
    "kernelspec": {
      "display_name": "Python 3",
      "name": "python3"
    },
    "language_info": {
      "codemirror_mode": {
        "name": "ipython",
        "version": 2
      },
      "file_extension": ".py",
      "mimetype": "text/x-python",
      "name": "python",
      "nbconvert_exporter": "python",
      "pygments_lexer": "ipython2",
      "version": "2.7.6"
    },
    "colab": {
      "provenance": [],
      "gpuType": "T4"
    },
    "accelerator": "GPU"
  },
  "nbformat": 4,
  "nbformat_minor": 5
}