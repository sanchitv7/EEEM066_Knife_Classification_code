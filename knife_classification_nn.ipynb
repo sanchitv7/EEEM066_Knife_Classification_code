{
  "cells": [
    {
      "cell_type": "code",
      "source": [
        "'''Mount Drive'''\n",
        "from google.colab import drive\n",
        "drive.mount('/content/drive')\n",
        "\n",
        "'''Set working directory'''\n",
        "%cd '/content/drive/MyDrive/GitHub Repos/EEEM066_Knife_Classification_code'\n",
        "\n",
        "'''To show plots in line'''\n",
        "%matplotlib inline\n",
        "\n",
        "\n",
        "'''git setup'''\n",
        "!git config --global user.email \"23355869+sanchitv7@users.noreply.github.com\"\n",
        "!git config --global user.name \"Sanchit Verma\"\n",
        "# !git remote set-url origin \"https://sanchitv7:<ADD TOKEN HERE>@github.com/sanchitv7/EEEM066_Knife_Classification_code.git\"\n",
        "\n",
        "!pip install -r requirements_version_less.txt"
      ],
      "metadata": {
        "id": "XIRObMrFv3yD"
      },
      "id": "XIRObMrFv3yD",
      "execution_count": null,
      "outputs": []
    },
    {
      "cell_type": "code",
      "source": [
        "!find . -type d -name '__pycache__' -exec rm -rf {} +"
      ],
      "metadata": {
        "id": "GNnnpbcvyeRB"
      },
      "id": "GNnnpbcvyeRB",
      "execution_count": 15,
      "outputs": []
    },
    {
      "cell_type": "code",
      "source": [
        "!python train.py"
      ],
      "metadata": {
        "id": "YcakS69RGOtD",
        "colab": {
          "base_uri": "https://localhost:8080/"
        },
        "outputId": "3b10225f-e525-4811-c077-aaf52265c28a"
      },
      "id": "YcakS69RGOtD",
      "execution_count": 41,
      "outputs": [
        {
          "output_type": "stream",
          "name": "stdout",
          "text": [
            "Using 16 workers | Device: cuda:0\n",
            "\n",
            "n_classes: 192\n",
            "img_weight: 224\n",
            "img_height: 224\n",
            "batch_size: 64\n",
            "epochs: 10\n",
            "learning_rate: 0.01\n",
            "\n",
            "------------------------------------- [START 2023-11-26 09:19:35] -----------------------------------------\n",
            "\n",
            "                                 |----- Train -----|----- Valid -----|----- Valid -----|------------|\n",
            "mode         iter        epoch   |       loss      |       loss      |        mAP      |    time    |\n",
            "-------------------------------------------------------------------------------------------\n",
            "train         150          1     |       2.744     |       0.000     |      0.000      |   0 min 42 sec\n",
            "val            6          1     |       2.744     |       5.869     |      0.325      |   0 min 13 sec\n",
            "train         150          2     |       0.665     |       5.869     |      0.325      |   0 min 32 sec\n",
            "val            6          2     |       0.665     |       3.409     |      0.631      |   0 min 12 sec\n",
            "train         150          3     |       0.289     |       3.409     |      0.631      |   0 min 32 sec\n",
            "val            6          3     |       0.289     |       2.902     |      0.762      |   0 min 12 sec\n",
            "train         150          4     |       0.128     |       2.902     |      0.762      |   0 min 33 sec\n",
            "val            6          4     |       0.128     |       2.776     |      0.827      |   0 min 13 sec\n",
            "train         150          5     |       0.057     |       2.776     |      0.827      |   0 min 33 sec\n",
            "val            6          5     |       0.057     |       2.468     |      0.852      |   0 min 13 sec\n",
            "train         150          6     |       0.026     |       2.468     |      0.852      |   0 min 33 sec\n",
            "val            6          6     |       0.026     |       2.448     |      0.863      |   0 min 12 sec\n",
            "train         150          7     |       0.012     |       2.448     |      0.863      |   0 min 32 sec\n",
            "val            6          7     |       0.012     |       2.630     |      0.852      |   0 min 13 sec\n",
            "train         150          8     |       0.004     |       2.630     |      0.852      |   0 min 32 sec\n",
            "val            6          8     |       0.004     |       2.563     |      0.858      |   0 min 13 sec\n",
            "train         150          9     |       0.003     |       2.563     |      0.858      |   0 min 33 sec\n",
            "val            6          9     |       0.003     |       2.490     |      0.860      |   0 min 12 sec\n",
            "train         150          10     |       0.002     |       2.490     |      0.860      |   0 min 33 sec\n",
            "val            6          10     |       0.002     |       2.479     |      0.858      |   0 min 12 sec\n",
            "val            6          10     |       0.002     |       2.479     |      0.858      |   0 min 12 sec\n",
            "\n",
            "Total time elapsed:  7 min 57 secFigure(1000x600)\n",
            "Figure(1000x600)\n"
          ]
        }
      ]
    },
    {
      "cell_type": "code",
      "source": [
        "!python test.py"
      ],
      "metadata": {
        "id": "Y52kqRIC98TS",
        "outputId": "84468ec1-4a32-423a-dbf5-b31add28052e",
        "colab": {
          "base_uri": "https://localhost:8080/"
        }
      },
      "id": "Y52kqRIC98TS",
      "execution_count": 42,
      "outputs": [
        {
          "output_type": "stream",
          "name": "stdout",
          "text": [
            "Using 16 workers | Device: cuda:0\n",
            "\n",
            "reading test file\n",
            "Creating test dataloader\n",
            "loading trained model\n",
            "Evaluating trained model\n",
            "Testing results for: Conf_6_Knife-Effb0-E10.pt\n",
            "\n",
            "mAP = 0.403\n"
          ]
        }
      ]
    },
    {
      "cell_type": "code",
      "source": [
        "!git add *.py logs/* Conf_6_Knife-Effb0-E10.pt result_plots/*"
      ],
      "metadata": {
        "id": "j4KeUuL9Ah6m"
      },
      "id": "j4KeUuL9Ah6m",
      "execution_count": 43,
      "outputs": []
    },
    {
      "cell_type": "code",
      "source": [
        "!git status"
      ],
      "metadata": {
        "id": "9AExA_4zjXrm",
        "outputId": "e5c3653f-f845-4fbb-b2ba-9f53b08c8aa2",
        "colab": {
          "base_uri": "https://localhost:8080/"
        }
      },
      "id": "9AExA_4zjXrm",
      "execution_count": 44,
      "outputs": [
        {
          "output_type": "stream",
          "name": "stdout",
          "text": [
            "On branch main\n",
            "Your branch is up to date with 'origin/main'.\n",
            "\n",
            "Changes to be committed:\n",
            "  (use \"git restore --staged <file>...\" to unstage)\n",
            "\t\u001b[32mnew file:   Conf_6_Knife-Effb0-E10.pt\u001b[m\n",
            "\t\u001b[32mmodified:   config.py\u001b[m\n",
            "\t\u001b[32mnew file:   logs/tf_efficientnet_b0_log_train_Config_6_SAVED.txt\u001b[m\n",
            "\t\u001b[32mnew file:   result_plots/EfficientNet/Config 6/train_val_loss_vs_epochs_config_6.png\u001b[m\n",
            "\t\u001b[32mnew file:   result_plots/EfficientNet/Config 6/val_map_vs_epochs_config_6.png\u001b[m\n",
            "\t\u001b[32mmodified:   test.py\u001b[m\n",
            "\t\u001b[32mmodified:   train.py\u001b[m\n",
            "\n",
            "Untracked files:\n",
            "  (use \"git add <file>...\" to include in what will be committed)\n",
            "\t\u001b[31mConf_3_Knife-Effb0-E10.pt\u001b[m\n",
            "\t\u001b[31mConf_3_Knife-Effb0-E15.pt\u001b[m\n",
            "\t\u001b[31mConf_3_Knife-Effb0-E5.pt\u001b[m\n",
            "\t\u001b[31mConf_4_Knife-Effb0-E10.pt\u001b[m\n",
            "\t\u001b[31mConf_4_Knife-Effb0-E15.pt\u001b[m\n",
            "\t\u001b[31mConf_4_Knife-Effb0-E5.pt\u001b[m\n",
            "\t\u001b[31mConf_5_Knife-Effb0-E10.pt\u001b[m\n",
            "\t\u001b[31mConf_6_Knife-Effb0-E5.pt\u001b[m\n",
            "\t\u001b[31mKnife-Effb0-E10.pt\u001b[m\n",
            "\t\u001b[31mKnife-Effb0-E5.pt\u001b[m\n",
            "\n"
          ]
        }
      ]
    },
    {
      "cell_type": "code",
      "source": [
        "!git commit -m 'saving run for config 6'\n",
        "!git pull\n",
        "!git push"
      ],
      "metadata": {
        "id": "-n5bsT9H0OWB",
        "outputId": "c110b87b-d78b-41b3-b344-3f52f234a729",
        "colab": {
          "base_uri": "https://localhost:8080/"
        }
      },
      "id": "-n5bsT9H0OWB",
      "execution_count": 45,
      "outputs": [
        {
          "output_type": "stream",
          "name": "stdout",
          "text": [
            "[main 6c641fe] saving run for config 6\n",
            " 7 files changed, 55 insertions(+), 12 deletions(-)\n",
            " create mode 100644 Conf_6_Knife-Effb0-E10.pt\n",
            " create mode 100644 logs/tf_efficientnet_b0_log_train_Config_6_SAVED.txt\n",
            " create mode 100644 result_plots/EfficientNet/Config 6/train_val_loss_vs_epochs_config_6.png\n",
            " create mode 100644 result_plots/EfficientNet/Config 6/val_map_vs_epochs_config_6.png\n",
            "Already up to date.\n",
            "Enumerating objects: 20, done.\n",
            "Counting objects: 100% (20/20), done.\n",
            "Delta compression using up to 8 threads\n",
            "Compressing objects: 100% (12/12), done.\n",
            "Writing objects: 100% (13/13), 15.31 MiB | 4.98 MiB/s, done.\n",
            "Total 13 (delta 6), reused 0 (delta 0), pack-reused 0\n",
            "remote: Resolving deltas: 100% (6/6), completed with 6 local objects.\u001b[K\n",
            "To https://github.com/sanchitv7/EEEM066_Knife_Classification_code.git\n",
            "   4d9b1aa..6c641fe  main -> main\n"
          ]
        }
      ]
    },
    {
      "cell_type": "code",
      "source": [],
      "metadata": {
        "id": "UQZSrIIr0RtS"
      },
      "id": "UQZSrIIr0RtS",
      "execution_count": null,
      "outputs": []
    }
  ],
  "metadata": {
    "kernelspec": {
      "display_name": "Python 3",
      "name": "python3"
    },
    "language_info": {
      "codemirror_mode": {
        "name": "ipython",
        "version": 2
      },
      "file_extension": ".py",
      "mimetype": "text/x-python",
      "name": "python",
      "nbconvert_exporter": "python",
      "pygments_lexer": "ipython2",
      "version": "2.7.6"
    },
    "colab": {
      "provenance": [],
      "gpuType": "T4",
      "machine_shape": "hm"
    },
    "accelerator": "GPU"
  },
  "nbformat": 4,
  "nbformat_minor": 5
}