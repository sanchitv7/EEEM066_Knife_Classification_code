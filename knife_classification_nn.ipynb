{
  "cells": [
    {
      "cell_type": "code",
      "source": [
        "from google.colab import drive\n",
        "drive.mount('/content/drive')\n",
        "%cd '/content/drive/MyDrive/GitHub Repos/EEEM066_Knife_Classification_code'"
      ],
      "metadata": {
        "colab": {
          "base_uri": "https://localhost:8080/"
        },
        "id": "XIRObMrFv3yD",
        "outputId": "295262c2-0c77-4597-b5e9-a3465bd6db7d"
      },
      "id": "XIRObMrFv3yD",
      "execution_count": 21,
      "outputs": [
        {
          "output_type": "stream",
          "name": "stdout",
          "text": [
            "Drive already mounted at /content/drive; to attempt to forcibly remount, call drive.mount(\"/content/drive\", force_remount=True).\n",
            "/content/drive/MyDrive/GitHub Repos/EEEM066_Knife_Classification_code\n"
          ]
        }
      ]
    },
    {
      "cell_type": "code",
      "source": [
        "!pip install -r requirements.txt"
      ],
      "metadata": {
        "id": "_kqsI_wVwNiQ"
      },
      "id": "_kqsI_wVwNiQ",
      "execution_count": null,
      "outputs": []
    },
    {
      "cell_type": "code",
      "source": [
        "!python train.py"
      ],
      "metadata": {
        "colab": {
          "base_uri": "https://localhost:8080/"
        },
        "id": "JADCvKVlwVn9",
        "outputId": "b8c5fb4b-e109-499e-8498-dfb75e5cdecb"
      },
      "id": "JADCvKVlwVn9",
      "execution_count": 33,
      "outputs": [
        {
          "output_type": "stream",
          "name": "stdout",
          "text": [
            "\n",
            "----------------------------------------------- [START 2023-11-23 02:31:35] ---------------------------------------------------\n",
            "\n",
            "                           |----- Train -----|----- Valid----|---------|\n",
            "mode     iter     epoch    |       loss      |        mAP    | time    |\n",
            "-------------------------------------------------------------------------------------------\n",
            "train 601.0    0.0        |      3.199     |      0.000     |  0 hr 03 min\n",
            "val    21.0    0.0       |      3.199     |      0.244    |  0 hr 04 min\n",
            "train 601.0    1.0        |      1.040     |      0.244     |  0 hr 07 min\n",
            "val    21.0    1.0       |      1.040     |      0.286    |  0 hr 09 min\n",
            "train 601.0    2.0        |      0.443     |      0.286     |  0 hr 12 min\n",
            "val    21.0    2.0       |      0.443     |      0.354    |  0 hr 13 min\n",
            "train 601.0    3.0        |      0.201     |      0.354     |  0 hr 16 min\n",
            "val    21.0    3.0       |      0.201     |      0.368    |  0 hr 17 min\n",
            "train 601.0    4.0        |      0.101     |      0.368     |  0 hr 20 min\n",
            "val    21.0    4.0       |      0.101     |      0.345    |  0 hr 22 min\n",
            "train 601.0    5.0        |      0.044     |      0.345     |  0 hr 25 min\n",
            "val    21.0    5.0       |      0.044     |      0.400    |  0 hr 26 min\n",
            "train 601.0    6.0        |      0.028     |      0.400     |  0 hr 29 min\n",
            "val    21.0    6.0       |      0.028     |      0.403    |  0 hr 30 min\n",
            "train 601.0    7.0        |      0.008     |      0.403     |  0 hr 33 min\n",
            "val    21.0    7.0       |      0.008     |      0.407    |  0 hr 35 min\n",
            "train 601.0    8.0        |      0.005     |      0.407     |  0 hr 38 min\n",
            "val    21.0    8.0       |      0.005     |      0.417    |  0 hr 39 min\n",
            "train 601.0    9.0        |      0.005     |      0.417     |  0 hr 42 min\n",
            "val    21.0    9.0       |      0.005     |      0.405    |  0 hr 44 min\n",
            "val    21.0    9.0       |      0.005     |      0.405    |  0 hr 44 min"
          ]
        }
      ]
    },
    {
      "cell_type": "code",
      "source": [
        "!git add logs/"
      ],
      "metadata": {
        "id": "QRqgizN3BKvg"
      },
      "id": "QRqgizN3BKvg",
      "execution_count": 35,
      "outputs": []
    },
    {
      "cell_type": "code",
      "source": [
        "!git commit -m 'Added logs from first test run'"
      ],
      "metadata": {
        "colab": {
          "base_uri": "https://localhost:8080/"
        },
        "id": "RIYK-2olMBSS",
        "outputId": "47bd968d-2d7b-4fb3-c42d-c3ac7de15aea"
      },
      "id": "RIYK-2olMBSS",
      "execution_count": 36,
      "outputs": [
        {
          "output_type": "stream",
          "name": "stdout",
          "text": [
            "[main 1883b9b] Added logs from first test run\n",
            " 1 file changed, 27 insertions(+)\n",
            " create mode 100644 logs/%s_log_train.txt\n"
          ]
        }
      ]
    },
    {
      "cell_type": "code",
      "source": [
        "!git push"
      ],
      "metadata": {
        "colab": {
          "base_uri": "https://localhost:8080/"
        },
        "id": "nSV0JlvrMLBd",
        "outputId": "1838233a-b60b-4f58-d59c-0691c3dba072"
      },
      "id": "nSV0JlvrMLBd",
      "execution_count": 38,
      "outputs": [
        {
          "output_type": "stream",
          "name": "stdout",
          "text": [
            "Enumerating objects: 5, done.\n",
            "Counting objects:  20% (1/5)\rCounting objects:  40% (2/5)\rCounting objects:  60% (3/5)\rCounting objects:  80% (4/5)\rCounting objects: 100% (5/5)\rCounting objects: 100% (5/5), done.\n",
            "Delta compression using up to 2 threads\n",
            "Compressing objects:  33% (1/3)\rCompressing objects:  66% (2/3)\rCompressing objects: 100% (3/3)\rCompressing objects: 100% (3/3), done.\n",
            "Writing objects:  25% (1/4)\rWriting objects:  50% (2/4)\rWriting objects:  75% (3/4)\rWriting objects: 100% (4/4)\rWriting objects: 100% (4/4), 708 bytes | 141.00 KiB/s, done.\n",
            "Total 4 (delta 1), reused 0 (delta 0), pack-reused 0\n",
            "remote: Resolving deltas:   0% (0/1)\u001b[K\rremote: Resolving deltas: 100% (1/1)\u001b[K\rremote: Resolving deltas: 100% (1/1), completed with 1 local object.\u001b[K\n",
            "To https://github.com/sanchitv7/EEEM066_Knife_Classification_code.git\n",
            "   c9907c8..1883b9b  main -> main\n"
          ]
        }
      ]
    },
    {
      "cell_type": "code",
      "source": [],
      "metadata": {
        "id": "smTk2rq8MMDp"
      },
      "id": "smTk2rq8MMDp",
      "execution_count": null,
      "outputs": []
    }
  ],
  "metadata": {
    "kernelspec": {
      "display_name": "Python 3",
      "name": "python3"
    },
    "language_info": {
      "codemirror_mode": {
        "name": "ipython",
        "version": 2
      },
      "file_extension": ".py",
      "mimetype": "text/x-python",
      "name": "python",
      "nbconvert_exporter": "python",
      "pygments_lexer": "ipython2",
      "version": "2.7.6"
    },
    "colab": {
      "provenance": [],
      "gpuType": "T4"
    },
    "accelerator": "GPU"
  },
  "nbformat": 4,
  "nbformat_minor": 5
}