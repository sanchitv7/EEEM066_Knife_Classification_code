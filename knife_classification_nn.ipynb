{
  "cells": [
    {
      "cell_type": "code",
      "source": [
        "'''Mount Drive'''\n",
        "from google.colab import drive\n",
        "drive.mount('/content/drive')\n",
        "\n",
        "'''Set working directory'''\n",
        "%cd '/content/drive/MyDrive/GitHub Repos/EEEM066_Knife_Classification_code'\n",
        "\n",
        "\n",
        "\n",
        "'''git setup'''\n",
        "!git config --global user.email \"23355869+sanchitv7@users.noreply.github.com\"\n",
        "!git config --global user.name \"Sanchit Verma\"\n",
        "# !git remote set-url origin \"https://sanchitv7:<ADD TOKEN HERE>@github.com/sanchitv7/EEEM066_Knife_Classification_code.git\""
      ],
      "metadata": {
        "colab": {
          "base_uri": "https://localhost:8080/"
        },
        "id": "XIRObMrFv3yD",
        "outputId": "756aa1be-8f9b-491b-a881-53c59be20cbb"
      },
      "id": "XIRObMrFv3yD",
      "execution_count": 2,
      "outputs": [
        {
          "output_type": "stream",
          "name": "stdout",
          "text": [
            "Drive already mounted at /content/drive; to attempt to forcibly remount, call drive.mount(\"/content/drive\", force_remount=True).\n",
            "/content/drive/MyDrive/GitHub Repos/EEEM066_Knife_Classification_code\n"
          ]
        }
      ]
    },
    {
      "cell_type": "code",
      "source": [
        "!pip install -r requirements.txt"
      ],
      "metadata": {
        "id": "_kqsI_wVwNiQ"
      },
      "id": "_kqsI_wVwNiQ",
      "execution_count": null,
      "outputs": []
    },
    {
      "cell_type": "code",
      "source": [
        "!python train.py"
      ],
      "metadata": {
        "id": "JADCvKVlwVn9"
      },
      "id": "JADCvKVlwVn9",
      "execution_count": null,
      "outputs": []
    },
    {
      "cell_type": "code",
      "source": [
        "!python test.py"
      ],
      "metadata": {
        "id": "Oi4ToNIokyZL"
      },
      "id": "Oi4ToNIokyZL",
      "execution_count": null,
      "outputs": []
    },
    {
      "cell_type": "code",
      "source": [
        "|"
      ],
      "metadata": {
        "id": "YcakS69RGOtD"
      },
      "id": "YcakS69RGOtD",
      "execution_count": null,
      "outputs": []
    }
  ],
  "metadata": {
    "kernelspec": {
      "display_name": "Python 3",
      "name": "python3"
    },
    "language_info": {
      "codemirror_mode": {
        "name": "ipython",
        "version": 2
      },
      "file_extension": ".py",
      "mimetype": "text/x-python",
      "name": "python",
      "nbconvert_exporter": "python",
      "pygments_lexer": "ipython2",
      "version": "2.7.6"
    },
    "colab": {
      "provenance": [],
      "gpuType": "T4"
    },
    "accelerator": "GPU"
  },
  "nbformat": 4,
  "nbformat_minor": 5
}